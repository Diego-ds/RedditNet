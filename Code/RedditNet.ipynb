{
  "cells": [
    {
      "cell_type": "code",
      "execution_count": null,
      "metadata": {
        "colab": {
          "base_uri": "https://localhost:8080/"
        },
        "id": "66-gi79Xb7H7",
        "outputId": "d179e650-422e-4aec-e664-8bd6740fa0ea"
      },
      "outputs": [
        {
          "output_type": "stream",
          "name": "stdout",
          "text": [
            "Mounted at /content/drive\n"
          ]
        }
      ],
      "source": [
        "from google.colab import drive\n",
        "drive.mount('/content/drive')"
      ]
    },
    {
      "cell_type": "code",
      "execution_count": null,
      "metadata": {
        "id": "W486nSxubGeC"
      },
      "outputs": [],
      "source": [
        "import pandas as pd\n",
        "import re"
      ]
    },
    {
      "cell_type": "code",
      "execution_count": null,
      "metadata": {
        "id": "yCJ6gvDAZRrX"
      },
      "outputs": [],
      "source": [
        "url = '/content/drive/MyDrive/datasets/depression_dataset_reddit_cleaned.csv'\n",
        "df = pd.read_csv(url)"
      ]
    },
    {
      "cell_type": "markdown",
      "metadata": {
        "id": "EXFcsK1rohpd"
      },
      "source": [
        "### Data pre-proccesing"
      ]
    },
    {
      "cell_type": "code",
      "execution_count": null,
      "metadata": {
        "colab": {
          "base_uri": "https://localhost:8080/"
        },
        "id": "Hszu372ybcvJ",
        "outputId": "c4faed95-9416-48fc-999c-260c2b7c90b2"
      },
      "outputs": [
        {
          "data": {
            "text/html": [
              "\n",
              "  <div id=\"df-b3e3fcd8-5ab6-4f5e-aac1-3f69bdd7f15c\">\n",
              "    <div class=\"colab-df-container\">\n",
              "      <div>\n",
              "<style scoped>\n",
              "    .dataframe tbody tr th:only-of-type {\n",
              "        vertical-align: middle;\n",
              "    }\n",
              "\n",
              "    .dataframe tbody tr th {\n",
              "        vertical-align: top;\n",
              "    }\n",
              "\n",
              "    .dataframe thead th {\n",
              "        text-align: right;\n",
              "    }\n",
              "</style>\n",
              "<table border=\"1\" class=\"dataframe\">\n",
              "  <thead>\n",
              "    <tr style=\"text-align: right;\">\n",
              "      <th></th>\n",
              "      <th>clean_text</th>\n",
              "      <th>is_depression</th>\n",
              "    </tr>\n",
              "  </thead>\n",
              "  <tbody>\n",
              "    <tr>\n",
              "      <th>0</th>\n",
              "      <td>we understand that most people who reply immed...</td>\n",
              "      <td>1</td>\n",
              "    </tr>\n",
              "    <tr>\n",
              "      <th>1</th>\n",
              "      <td>welcome to r depression s check in post a plac...</td>\n",
              "      <td>1</td>\n",
              "    </tr>\n",
              "    <tr>\n",
              "      <th>2</th>\n",
              "      <td>anyone else instead of sleeping more when depr...</td>\n",
              "      <td>1</td>\n",
              "    </tr>\n",
              "    <tr>\n",
              "      <th>3</th>\n",
              "      <td>i have kind of stuffed around a lot in my life...</td>\n",
              "      <td>1</td>\n",
              "    </tr>\n",
              "    <tr>\n",
              "      <th>4</th>\n",
              "      <td>sleep is my greatest and most comforting escap...</td>\n",
              "      <td>1</td>\n",
              "    </tr>\n",
              "  </tbody>\n",
              "</table>\n",
              "</div>\n",
              "      <button class=\"colab-df-convert\" onclick=\"convertToInteractive('df-b3e3fcd8-5ab6-4f5e-aac1-3f69bdd7f15c')\"\n",
              "              title=\"Convert this dataframe to an interactive table.\"\n",
              "              style=\"display:none;\">\n",
              "        \n",
              "  <svg xmlns=\"http://www.w3.org/2000/svg\" height=\"24px\"viewBox=\"0 0 24 24\"\n",
              "       width=\"24px\">\n",
              "    <path d=\"M0 0h24v24H0V0z\" fill=\"none\"/>\n",
              "    <path d=\"M18.56 5.44l.94 2.06.94-2.06 2.06-.94-2.06-.94-.94-2.06-.94 2.06-2.06.94zm-11 1L8.5 8.5l.94-2.06 2.06-.94-2.06-.94L8.5 2.5l-.94 2.06-2.06.94zm10 10l.94 2.06.94-2.06 2.06-.94-2.06-.94-.94-2.06-.94 2.06-2.06.94z\"/><path d=\"M17.41 7.96l-1.37-1.37c-.4-.4-.92-.59-1.43-.59-.52 0-1.04.2-1.43.59L10.3 9.45l-7.72 7.72c-.78.78-.78 2.05 0 2.83L4 21.41c.39.39.9.59 1.41.59.51 0 1.02-.2 1.41-.59l7.78-7.78 2.81-2.81c.8-.78.8-2.07 0-2.86zM5.41 20L4 18.59l7.72-7.72 1.47 1.35L5.41 20z\"/>\n",
              "  </svg>\n",
              "      </button>\n",
              "      \n",
              "  <style>\n",
              "    .colab-df-container {\n",
              "      display:flex;\n",
              "      flex-wrap:wrap;\n",
              "      gap: 12px;\n",
              "    }\n",
              "\n",
              "    .colab-df-convert {\n",
              "      background-color: #E8F0FE;\n",
              "      border: none;\n",
              "      border-radius: 50%;\n",
              "      cursor: pointer;\n",
              "      display: none;\n",
              "      fill: #1967D2;\n",
              "      height: 32px;\n",
              "      padding: 0 0 0 0;\n",
              "      width: 32px;\n",
              "    }\n",
              "\n",
              "    .colab-df-convert:hover {\n",
              "      background-color: #E2EBFA;\n",
              "      box-shadow: 0px 1px 2px rgba(60, 64, 67, 0.3), 0px 1px 3px 1px rgba(60, 64, 67, 0.15);\n",
              "      fill: #174EA6;\n",
              "    }\n",
              "\n",
              "    [theme=dark] .colab-df-convert {\n",
              "      background-color: #3B4455;\n",
              "      fill: #D2E3FC;\n",
              "    }\n",
              "\n",
              "    [theme=dark] .colab-df-convert:hover {\n",
              "      background-color: #434B5C;\n",
              "      box-shadow: 0px 1px 3px 1px rgba(0, 0, 0, 0.15);\n",
              "      filter: drop-shadow(0px 1px 2px rgba(0, 0, 0, 0.3));\n",
              "      fill: #FFFFFF;\n",
              "    }\n",
              "  </style>\n",
              "\n",
              "      <script>\n",
              "        const buttonEl =\n",
              "          document.querySelector('#df-b3e3fcd8-5ab6-4f5e-aac1-3f69bdd7f15c button.colab-df-convert');\n",
              "        buttonEl.style.display =\n",
              "          google.colab.kernel.accessAllowed ? 'block' : 'none';\n",
              "\n",
              "        async function convertToInteractive(key) {\n",
              "          const element = document.querySelector('#df-b3e3fcd8-5ab6-4f5e-aac1-3f69bdd7f15c');\n",
              "          const dataTable =\n",
              "            await google.colab.kernel.invokeFunction('convertToInteractive',\n",
              "                                                     [key], {});\n",
              "          if (!dataTable) return;\n",
              "\n",
              "          const docLinkHtml = 'Like what you see? Visit the ' +\n",
              "            '<a target=\"_blank\" href=https://colab.research.google.com/notebooks/data_table.ipynb>data table notebook</a>'\n",
              "            + ' to learn more about interactive tables.';\n",
              "          element.innerHTML = '';\n",
              "          dataTable['output_type'] = 'display_data';\n",
              "          await google.colab.output.renderOutput(dataTable, element);\n",
              "          const docLink = document.createElement('div');\n",
              "          docLink.innerHTML = docLinkHtml;\n",
              "          element.appendChild(docLink);\n",
              "        }\n",
              "      </script>\n",
              "    </div>\n",
              "  </div>\n",
              "  "
            ],
            "text/plain": [
              "                                          clean_text is_depression\n",
              "0  we understand that most people who reply immed...             1\n",
              "1  welcome to r depression s check in post a plac...             1\n",
              "2  anyone else instead of sleeping more when depr...             1\n",
              "3  i have kind of stuffed around a lot in my life...             1\n",
              "4  sleep is my greatest and most comforting escap...             1"
            ]
          },
          "execution_count": 8,
          "metadata": {},
          "output_type": "execute_result"
        }
      ],
      "source": [
        "df.head()"
      ]
    },
    {
      "cell_type": "code",
      "execution_count": null,
      "metadata": {
        "colab": {
          "base_uri": "https://localhost:8080/"
        },
        "id": "P8vNgCCxeFKF",
        "outputId": "9411c378-9c91-4a98-df7a-61d6e32479d3"
      },
      "outputs": [
        {
          "data": {
            "text/plain": [
              "(15462, 2)"
            ]
          },
          "execution_count": 9,
          "metadata": {},
          "output_type": "execute_result"
        }
      ],
      "source": [
        "df.shape"
      ]
    },
    {
      "cell_type": "markdown",
      "metadata": {
        "id": "z66RieajebjW"
      },
      "source": [
        "El dataset tiene 7731 filas y dos columnas, 'clean_text' que contiene el comentario de reddit y 'is_depression' label del comentario que indica si esta relacionado con depresion"
      ]
    },
    {
      "cell_type": "code",
      "execution_count": null,
      "metadata": {
        "colab": {
          "base_uri": "https://localhost:8080/"
        },
        "id": "0jhyPct-ezug",
        "outputId": "4c31a3ce-95b1-49e7-e22c-be86dc64ff04"
      },
      "outputs": [
        {
          "name": "stdout",
          "output_type": "stream",
          "text": [
            "<class 'pandas.core.frame.DataFrame'>\n",
            "Int64Index: 15462 entries, 0 to 7730\n",
            "Data columns (total 2 columns):\n",
            " #   Column         Non-Null Count  Dtype   \n",
            "---  ------         --------------  -----   \n",
            " 0   clean_text     15462 non-null  object  \n",
            " 1   is_depression  15462 non-null  category\n",
            "dtypes: category(1), object(1)\n",
            "memory usage: 256.7+ KB\n"
          ]
        }
      ],
      "source": [
        "df.info()"
      ]
    },
    {
      "cell_type": "code",
      "execution_count": null,
      "metadata": {
        "colab": {
          "base_uri": "https://localhost:8080/"
        },
        "id": "irFNYZxofuG0",
        "outputId": "053018f7-a71e-4428-c493-397abeb0ea58"
      },
      "outputs": [
        {
          "data": {
            "text/plain": [
              "0    7800\n",
              "1    7662\n",
              "Name: is_depression, dtype: int64"
            ]
          },
          "execution_count": 11,
          "metadata": {},
          "output_type": "execute_result"
        }
      ],
      "source": [
        "df['is_depression'].value_counts()"
      ]
    },
    {
      "cell_type": "markdown",
      "metadata": {
        "id": "ENWbJiGTg5wA"
      },
      "source": [
        "El dataset se encuentra equilibrado"
      ]
    },
    {
      "cell_type": "code",
      "execution_count": null,
      "metadata": {
        "id": "CpwGL8YVhKro"
      },
      "outputs": [],
      "source": [
        "df['is_depression'] = df['is_depression'].astype('category')"
      ]
    },
    {
      "cell_type": "markdown",
      "metadata": {
        "id": "s2m9EBKKJyFt"
      },
      "source": [
        "Tranformamos nuestro label a tipo categorico"
      ]
    },
    {
      "cell_type": "code",
      "execution_count": null,
      "metadata": {
        "colab": {
          "base_uri": "https://localhost:8080/"
        },
        "id": "2v_JSEKIhfw_",
        "outputId": "a5e20431-b613-4154-c92e-4fe27361c9c1"
      },
      "outputs": [
        {
          "name": "stdout",
          "output_type": "stream",
          "text": [
            "<class 'pandas.core.frame.DataFrame'>\n",
            "Int64Index: 15462 entries, 0 to 7730\n",
            "Data columns (total 2 columns):\n",
            " #   Column         Non-Null Count  Dtype   \n",
            "---  ------         --------------  -----   \n",
            " 0   clean_text     15462 non-null  object  \n",
            " 1   is_depression  15462 non-null  category\n",
            "dtypes: category(1), object(1)\n",
            "memory usage: 256.8+ KB\n"
          ]
        }
      ],
      "source": [
        "df.info()"
      ]
    },
    {
      "cell_type": "markdown",
      "metadata": {
        "id": "mxks8mF_J5GR"
      },
      "source": [
        "Eliminamos las abrevaciones mas comunes del idioma para perder el minimo significado posible"
      ]
    },
    {
      "cell_type": "code",
      "execution_count": null,
      "metadata": {
        "colab": {
          "base_uri": "https://localhost:8080/"
        },
        "id": "OUWISvaNkA5A",
        "outputId": "aad5cb1f-9454-4297-8c9c-1d57776bbf7d"
      },
      "outputs": [
        {
          "name": "stdout",
          "output_type": "stream",
          "text": [
            "3    i have kind of stuffed around a lot in my life...\n",
            "3    i have gotten into a lot of things in my life ...\n",
            "Name: clean_text, dtype: object\n"
          ]
        }
      ],
      "source": [
        "print(df['clean_text'][3])"
      ]
    },
    {
      "cell_type": "markdown",
      "metadata": {
        "id": "Kqn6NNBotjzh"
      },
      "source": [
        "code fragment from: https://www.analyticsvidhya.com/blog/2020/04/beginners-guide-exploratory-data-analysis-text-data/"
      ]
    },
    {
      "cell_type": "code",
      "execution_count": null,
      "metadata": {
        "id": "McDndTxrqowj"
      },
      "outputs": [],
      "source": [
        "# Dictionary of English Contractions\n",
        "contractions_dict = { \"ain t\": \"are not\",\"'s\":\" is\",\"aren t\": \"are not\",\n",
        "                     \"can t\": \"cannot\",\"can't've\": \"cannot have\",\n",
        "                     \"cause\": \"because\",\"could've\": \"could have\",\"couldn t\": \"could not\",\n",
        "                     \"couldn't've\": \"could not have\", \"didn t\": \"did not\",\"doesn t\": \"does not\",\n",
        "                     \"don t\": \"do not\",\"hadn t\": \"had not\",\"hadn t ve\": \"had not have\",\n",
        "                     \"hasn t\": \"has not\",\"haven t\": \"have not\",\"he d\": \"he would\",\n",
        "                     \"he'd've\": \"he would have\",\"he'll\": \"he will\", \"he'll've\": \"he will have\",\n",
        "                     \"how'd\": \"how did\",\"how'd'y\": \"how do you\",\"how'll\": \"how will\",\n",
        "                     \"i d\": \"i would\", \"i d ve\": \"i would have\",\"i ll\": \"i will\",\n",
        "                     \"i ll ve\": \"i will have\",\"i m\": \"i am\",\"i ve\": \"i have\", \"isn t\": \"is not\",\n",
        "                     \"it d\": \"it would\",\"it d ve\": \"it would have\",\"it ll\": \"it will\",\n",
        "                     \"it'll've\": \"it will have\", \"let s\": \"let us\",\"ma am\": \"madam\",\n",
        "                     \"mayn t\": \"may not\",\"might ve\": \"might have\",\"mightn t\": \"might not\", \n",
        "                     \"mightn't've\": \"might not have\",\"must ve\": \"must have\",\"mustn t\": \"must not\",\n",
        "                     \"mustn't've\": \"must not have\", \"needn t\": \"need not\",\n",
        "                     \"needn't've\": \"need not have\",\"o clock\": \"of the clock\",\"oughtn t\": \"ought not\",\n",
        "                     \"oughtn't've\": \"ought not have\",\"shan't\": \"shall not\",\"sha'n't\": \"shall not\",\n",
        "                     \"shan't've\": \"shall not have\",\"she d\": \"she would\",\"she d ve\": \"she would have\",\n",
        "                     \"she ll\": \"she will\", \"she ll ve\": \"she will have\",\"should ve\": \"should have\",\n",
        "                     \"shouldn t\": \"should not\", \"shouldn t ve\": \"should not have\",\"so ve\": \"so have\",\n",
        "                     \"that d\": \"that would\",\"that d ve\": \"that would have\", \"there d\": \"there would\",\n",
        "                     \"there d ve\": \"there would have\", \"they d\": \"they would\",\n",
        "                     \"they d ve\": \"they would have\",\"they ll\": \"they will\",\n",
        "                     \"they ll ve\": \"they will have\", \"they re\": \"they are\",\"they've\": \"they have\",\n",
        "                     \"to ve\": \"to have\",\"wasn t\": \"was not\",\"we d\": \"we would\",\n",
        "                     \"we'd've\": \"we would have\",\"we ll\": \"we will\",\"we'll've\": \"we will have\",\n",
        "                     \"we re\": \"we are\",\"we ve\": \"we have\", \"weren t\": \"were not\",\"what ll\": \"what will\",\n",
        "                     \"what ll ve\": \"what will have\",\"what re\": \"what are\", \"what ve\": \"what have\",\n",
        "                     \"when ve\": \"when have\",\"where d\": \"where did\", \"where ve\": \"where have\",\n",
        "                     \"who ll\": \"who will\",\"who ll ve\": \"who will have\",\"who ve\": \"who have\",\n",
        "                     \"why ve\": \"why have\",\"will ve\": \"will have\",\"won t\": \"will not\",\n",
        "                     \"won t ve\": \"will not have\", \"would ve\": \"would have\",\"wouldn t\": \"would not\",\n",
        "                     \"wouldn t ve\": \"would not have\",\"y all\": \"you all\", \"y all d\": \"you all would\",\n",
        "                     \"y'all'd've\": \"you all would have\",\"y'all're\": \"you all are\",\n",
        "                     \"y'all've\": \"you all have\", \"you d\": \"you would\",\"you'd've\": \"you would have\",\n",
        "                     \"you ll\": \"you will\",\"you'll've\": \"you will have\", \"you re\": \"you are\",\n",
        "                     \"you ve\": \"you have\",\"ain't\": \"are not\",\"'s\":\" is\",\"aren't\": \"are not\",\n",
        "                     \"can't\": \"cannot\",\"can't've\": \"cannot have\",\n",
        "                     \"'cause\": \"because\",\"could've\": \"could have\",\"couldn't\": \"could not\",\n",
        "                     \"couldn't've\": \"could not have\", \"didn't\": \"did not\",\"doesn't\": \"does not\",\n",
        "                     \"don't\": \"do not\",\"hadn't\": \"had not\",\"hadn't've\": \"had not have\",\n",
        "                     \"hasn't\": \"has not\",\"haven't\": \"have not\",\"he'd\": \"he would\",\n",
        "                     \"he'd've\": \"he would have\",\"he'll\": \"he will\", \"he'll've\": \"he will have\",\n",
        "                     \"how'd\": \"how did\",\"how'd'y\": \"how do you\",\"how'll\": \"how will\",\n",
        "                     \"I'd\": \"I would\",\"i'd\": \"i would\", \"i'd've\": \"i would have\",\"I'll\": \"I will\",\"i'll\": \"i will\",\n",
        "                     \"i'll've\": \"I will have\",\"I'm\": \"I am\",\"i'm\": \"i am\",\"I've\": \"I have\",\"i've\": \"i have\", \"isn't\": \"is not\",\n",
        "                     \"it'd\": \"it would\",\"it's\": \"it is\",\"it'd've\": \"it would have\",\"it'll\": \"it will\",\n",
        "                     \"it'll've\": \"it will have\", \"let's\": \"let us\",\"ma'am\": \"madam\",\n",
        "                     \"mayn't\": \"may not\",\"might've\": \"might have\",\"mightn't\": \"might not\", \n",
        "                     \"mightn't've\": \"might not have\",\"must've\": \"must have\",\"mustn't\": \"must not\",\n",
        "                     \"mustn't've\": \"must not have\", \"needn't\": \"need not\",\n",
        "                     \"needn't've\": \"need not have\",\"o'clock\": \"of the clock\",\"oughtn't\": \"ought not\",\n",
        "                     \"oughtn't've\": \"ought not have\",\"shan't\": \"shall not\",\"sha'n't\": \"shall not\",\n",
        "                     \"shan't've\": \"shall not have\",\"she'd\": \"she would\",\"she'd've\": \"she would have\",\n",
        "                     \"she'll\": \"she will\", \"she'll've\": \"she will have\",\"should've\": \"should have\",\n",
        "                     \"shouldn't\": \"should not\", \"shouldn't've\": \"should not have\",\"so've\": \"so have\",\n",
        "                     \"that'd\": \"that would\",\"that'd've\": \"that would have\", \"there'd\": \"there would\",\n",
        "                     \"there'd've\": \"there would have\", \"they'd\": \"they would\",\n",
        "                     \"they'd've\": \"they would have\",\"they'll\": \"they will\",\n",
        "                     \"they'll've\": \"they will have\", \"they're\": \"they are\",\"they've\": \"they have\",\n",
        "                     \"to've\": \"to have\",\"wasn't\": \"was not\",\"we'd\": \"we would\",\n",
        "                     \"we'd've\": \"we would have\",\"we'll\": \"we will\",\"we'll've\": \"we will have\",\n",
        "                     \"we're\": \"we are\",\"we've\": \"we have\", \"weren't\": \"were not\",\"what'll\": \"what will\",\n",
        "                     \"what'll've\": \"what will have\",\"what're\": \"what are\", \"what've\": \"what have\",\n",
        "                     \"when've\": \"when have\",\"where'd\": \"where did\", \"where've\": \"where have\",\n",
        "                     \"who'll\": \"who will\",\"who'll've\": \"who will have\",\"who've\": \"who have\",\n",
        "                     \"why've\": \"why have\",\"will've\": \"will have\",\"won't\": \"will not\",\n",
        "                     \"won't've\": \"will not have\", \"would've\": \"would have\",\"wouldn't\": \"would not\",\n",
        "                     \"wouldn't've\": \"would not have\",\"y'all\": \"you all\", \"y'all'd\": \"you all would\",\n",
        "                     \"y'all'd've\": \"you all would have\",\"y'all're\": \"you all are\",\n",
        "                     \"y'all've\": \"you all have\", \"you'd\": \"you would\",\"you'd've\": \"you would have\",\n",
        "                     \"you'll\": \"you will\",\"you'll've\": \"you will have\", \"you're\": \"you are\",\n",
        "                     \"you've\": \"you have\"}\n",
        "\n",
        "\n",
        "# Regular expression for finding contractions\n",
        "contractions_re=re.compile('(%s)' % '|'.join(contractions_dict.keys()))\n",
        "\n",
        "# Function for expanding contractions\n",
        "def expand_contractions(text,contractions_dict=contractions_dict):\n",
        "  def replace(match):\n",
        "    return contractions_dict[match.group(0)]\n",
        "  return contractions_re.sub(replace, text)\n",
        "\n",
        "# Expanding Contractions in the reviews\n",
        "df['clean_text']=df['clean_text'].apply(lambda x:expand_contractions(x))"
      ]
    },
    {
      "cell_type": "code",
      "execution_count": null,
      "metadata": {
        "id": "QzFXLgT5s6e7"
      },
      "outputs": [],
      "source": [
        "print(df['clean_text'][3])"
      ]
    },
    {
      "cell_type": "markdown",
      "metadata": {
        "id": "7ONUXluzu93Y"
      },
      "source": [
        "https://pypi.org/project/googletrans/"
      ]
    },
    {
      "cell_type": "code",
      "execution_count": null,
      "metadata": {
        "id": "2KXylZTiu8uG"
      },
      "outputs": [],
      "source": [
        "!pip install googletrans==3.1.0a0"
      ]
    },
    {
      "cell_type": "code",
      "execution_count": null,
      "metadata": {
        "id": "CMAyMximGLag"
      },
      "outputs": [],
      "source": [
        "from googletrans import Translator\n",
        "translator = Translator()"
      ]
    },
    {
      "cell_type": "code",
      "execution_count": null,
      "metadata": {
        "id": "pHyT7nYAGgXV"
      },
      "outputs": [],
      "source": [
        "def translateBack(text):\n",
        "  spanish_text = translator.translate(text, dest='es', src='en').text\n",
        "  transtated_back = translator.translate(spanish_text, dest='en',src='es').text\n",
        "  return transtated_back"
      ]
    },
    {
      "cell_type": "code",
      "execution_count": null,
      "metadata": {
        "id": "kZN_ASyTHW8R"
      },
      "outputs": [],
      "source": [
        "lyr = \"Look, I was gonna go easy on you not to hurt your feelings But I'm only going to get this one chance\"\n",
        "print(translateBack(lyr))"
      ]
    },
    {
      "cell_type": "code",
      "execution_count": null,
      "metadata": {
        "id": "-ZeRYJkTH4o3"
      },
      "outputs": [],
      "source": [
        "df['augmentated_text']=df['clean_text'].apply(lambda x:translateBack(x))"
      ]
    },
    {
      "cell_type": "code",
      "execution_count": null,
      "metadata": {
        "id": "ql70RHVhkox_"
      },
      "outputs": [],
      "source": [
        "df.head()"
      ]
    },
    {
      "cell_type": "code",
      "execution_count": null,
      "metadata": {
        "id": "7oL-8agbsjWe"
      },
      "outputs": [],
      "source": [
        "df['augmentated_text'] = df['augmentated_text'].apply(lambda x: x.lower())"
      ]
    },
    {
      "cell_type": "code",
      "execution_count": null,
      "metadata": {
        "id": "4Q81c1tXsZEe"
      },
      "outputs": [],
      "source": [
        "df['augmentated_text']=df['augmentated_text'].apply(lambda x:expand_contractions(x))"
      ]
    },
    {
      "cell_type": "code",
      "execution_count": null,
      "metadata": {
        "id": "_ou2M_qXs6SW"
      },
      "outputs": [],
      "source": [
        "df.head()"
      ]
    },
    {
      "cell_type": "code",
      "execution_count": null,
      "metadata": {
        "id": "vO981IfXlWQU"
      },
      "outputs": [],
      "source": [
        "df.to_pickle('/content/drive/MyDrive/8vo semestre/IA 2/Reddit Project/datasetAugmentated')"
      ]
    },
    {
      "cell_type": "code",
      "execution_count": null,
      "metadata": {
        "id": "o_1R626-mV2s"
      },
      "outputs": [],
      "source": [
        "load_df = pd.read_pickle('/content/drive/MyDrive/8vo semestre/IA 2/Reddit Project/datasetAugmentated')"
      ]
    },
    {
      "cell_type": "code",
      "execution_count": null,
      "metadata": {
        "id": "ncADHOFKnBF8"
      },
      "outputs": [],
      "source": [
        "load_df.head()"
      ]
    },
    {
      "cell_type": "code",
      "execution_count": null,
      "metadata": {
        "id": "8d9768gtXdWH"
      },
      "outputs": [],
      "source": [
        "import string"
      ]
    },
    {
      "cell_type": "code",
      "execution_count": null,
      "metadata": {
        "id": "2BNe-H_HZsx0"
      },
      "outputs": [],
      "source": [
        "text = 'I had.such high hopes! for this,dress size or (my usual size) to work for me.'\n",
        "PUNCT_TO_REMOVE = string.punctuation\n",
        "ans = text.translate(str.maketrans(' ',' ', PUNCT_TO_REMOVE))\n",
        "ans"
      ]
    },
    {
      "cell_type": "code",
      "execution_count": null,
      "metadata": {
        "id": "I6bFRf_ZaFYT"
      },
      "outputs": [],
      "source": [
        "load_df['augmentated_text'][4]"
      ]
    },
    {
      "cell_type": "code",
      "execution_count": null,
      "metadata": {
        "id": "kVk2HrwMaPtz"
      },
      "outputs": [],
      "source": [
        "load_df['augmentated_text'] = load_df['augmentated_text'].apply(lambda x: x.translate(str.maketrans(',', PUNCT_TO_REMOVE)))"
      ]
    },
    {
      "cell_type": "code",
      "execution_count": null,
      "metadata": {
        "id": "qYZOXhFlakNE"
      },
      "outputs": [],
      "source": [
        "load_df['augmentated_text'][345]"
      ]
    },
    {
      "cell_type": "code",
      "execution_count": null,
      "metadata": {
        "id": "_xX7PJRoamSz"
      },
      "outputs": [],
      "source": [
        "load_df['augmentated_text'] = load_df['augmentated_text'].apply(lambda x: x.lower())"
      ]
    },
    {
      "cell_type": "code",
      "execution_count": null,
      "metadata": {
        "id": "eYfyeWXCavQM"
      },
      "outputs": [],
      "source": [
        "load_df['augmentated_text']=load_df['augmentated_text'].apply(lambda x:expand_contractions(x))"
      ]
    },
    {
      "cell_type": "code",
      "execution_count": null,
      "metadata": {
        "id": "IUxWNYLMc6dK"
      },
      "outputs": [],
      "source": [
        "load_df.to_pickle('/content/drive/MyDrive/8vo semestre/IA 2/Reddit Project/cleandAugmentatedDataset')"
      ]
    },
    {
      "cell_type": "code",
      "execution_count": null,
      "metadata": {
        "id": "a4ZqNjfXdbda"
      },
      "outputs": [],
      "source": [
        "new_df = pd.read_pickle('/content/drive/MyDrive/8vo semestre/IA 2/Reddit Project/cleandAugmentatedDataset')"
      ]
    },
    {
      "cell_type": "code",
      "execution_count": null,
      "metadata": {
        "id": "hz9S5oGUlMt6"
      },
      "outputs": [],
      "source": [
        "part1 = new_df.iloc[:,0:2]\n",
        "augcolumn = new_df.iloc[:,2:]\n",
        "labelcolumn = new_df.iloc[:,1:2]\n",
        "part2 = pd.concat([augcolumn,labelcolumn],axis=1)"
      ]
    },
    {
      "cell_type": "code",
      "execution_count": null,
      "metadata": {
        "id": "_Ewp6T-_lbe8"
      },
      "outputs": [],
      "source": [
        "part1.head()"
      ]
    },
    {
      "cell_type": "code",
      "execution_count": null,
      "metadata": {
        "id": "W0DzG0yBl8Lh"
      },
      "outputs": [],
      "source": [
        "part2.head()"
      ]
    },
    {
      "cell_type": "code",
      "execution_count": null,
      "metadata": {
        "id": "aO8lVry3pMUB"
      },
      "outputs": [],
      "source": [
        "columns = [\"clean_text\",\"is_depression\"]\n",
        "part1.columns = columns\n",
        "part2.columns = columns"
      ]
    },
    {
      "cell_type": "code",
      "execution_count": null,
      "metadata": {
        "id": "AUKnWPmKoqij"
      },
      "outputs": [],
      "source": [
        "df = pd.concat([part1,part2])"
      ]
    },
    {
      "cell_type": "code",
      "execution_count": null,
      "metadata": {
        "id": "Go4Q4wNMo56r"
      },
      "outputs": [],
      "source": [
        "df.info()"
      ]
    },
    {
      "cell_type": "code",
      "execution_count": null,
      "metadata": {
        "id": "Oe5QwhfXpiOu"
      },
      "outputs": [],
      "source": [
        "df.to_pickle('/content/drive/MyDrive/8vo semestre/IA 2/Reddit Project/finalDataset')"
      ]
    },
    {
      "cell_type": "markdown",
      "metadata": {
        "id": "8i58w37Tqi6j"
      },
      "source": [
        "### Load dataset\n"
      ]
    },
    {
      "cell_type": "code",
      "source": [
        "import pandas as pd"
      ],
      "metadata": {
        "id": "EDQCI9f_hsmc"
      },
      "execution_count": null,
      "outputs": []
    },
    {
      "cell_type": "code",
      "execution_count": null,
      "metadata": {
        "id": "B1jRJLrVqpu3"
      },
      "outputs": [],
      "source": [
        "dir = '/content/drive/MyDrive/8vo semestre/IA 2/Reddit Project/finalDataset'\n",
        "dir2 = \"/content/drive/MyDrive/Colab Notebooks/IA2/IAProject/finalDataset\""
      ]
    },
    {
      "cell_type": "code",
      "execution_count": null,
      "metadata": {
        "id": "ferZnSEupqLK"
      },
      "outputs": [],
      "source": [
        "df = pd.read_pickle(dir2)"
      ]
    },
    {
      "cell_type": "code",
      "execution_count": null,
      "metadata": {
        "colab": {
          "base_uri": "https://localhost:8080/"
        },
        "id": "DB5JNaB4qag3",
        "outputId": "6b80aa6a-b6b6-4610-b322-c73e957056ea"
      },
      "outputs": [
        {
          "output_type": "stream",
          "name": "stdout",
          "text": [
            "<class 'pandas.core.frame.DataFrame'>\n",
            "Int64Index: 15462 entries, 0 to 7730\n",
            "Data columns (total 2 columns):\n",
            " #   Column         Non-Null Count  Dtype   \n",
            "---  ------         --------------  -----   \n",
            " 0   clean_text     15462 non-null  object  \n",
            " 1   is_depression  15462 non-null  category\n",
            "dtypes: category(1), object(1)\n",
            "memory usage: 256.7+ KB\n"
          ]
        }
      ],
      "source": [
        "df.info()"
      ]
    },
    {
      "cell_type": "markdown",
      "metadata": {
        "id": "zrO4uCerMBnk"
      },
      "source": [
        "#particion del dataset en entrenamiento y testing"
      ]
    },
    {
      "cell_type": "code",
      "execution_count": null,
      "metadata": {
        "id": "12jcTqQbMGMx"
      },
      "outputs": [],
      "source": [
        "import numpy as np\n",
        "from sklearn.model_selection import train_test_split"
      ]
    },
    {
      "cell_type": "code",
      "execution_count": null,
      "metadata": {
        "id": "aIBXtCxArNSL"
      },
      "outputs": [],
      "source": [
        "X = df.loc[:,['clean_text']]\n",
        "y = df.loc[:,['is_depression']]"
      ]
    },
    {
      "cell_type": "code",
      "execution_count": null,
      "metadata": {
        "id": "eo6-WcsusTG_"
      },
      "outputs": [],
      "source": [
        "test_size = 0.2"
      ]
    },
    {
      "cell_type": "code",
      "execution_count": null,
      "metadata": {
        "id": "2csy6TSzsD33"
      },
      "outputs": [],
      "source": [
        "X_train, X_test, y_train, y_test = train_test_split(X, y, test_size=test_size, random_state=42,shuffle=True)"
      ]
    },
    {
      "cell_type": "markdown",
      "metadata": {
        "id": "n4UhCaAML01m"
      },
      "source": [
        "# Clasificación del texto haciendo uso de BERT\n"
      ]
    },
    {
      "cell_type": "markdown",
      "metadata": {
        "id": "Zz3DEpjzMUOx"
      },
      "source": [
        "la documentación para realizar este proceso fué obtenida de https://www.tensorflow.org/text/tutorials/classify_text_with_bert"
      ]
    },
    {
      "cell_type": "code",
      "execution_count": null,
      "metadata": {
        "colab": {
          "base_uri": "https://localhost:8080/"
        },
        "id": "oO1v3FEhIj4L",
        "outputId": "cce5fede-a07a-4efc-fc28-56a5bf936410"
      },
      "outputs": [
        {
          "output_type": "stream",
          "name": "stdout",
          "text": [
            "Looking in indexes: https://pypi.org/simple, https://us-python.pkg.dev/colab-wheels/public/simple/\n",
            "Collecting tensorflow_text\n",
            "  Downloading tensorflow_text-2.11.0-cp37-cp37m-manylinux_2_17_x86_64.manylinux2014_x86_64.whl (5.8 MB)\n",
            "\u001b[K     |████████████████████████████████| 5.8 MB 11.0 MB/s \n",
            "\u001b[?25hCollecting tensorflow<2.12,>=2.11.0\n",
            "  Downloading tensorflow-2.11.0-cp37-cp37m-manylinux_2_17_x86_64.manylinux2014_x86_64.whl (588.3 MB)\n",
            "\u001b[K     |████████████████████████████████| 588.3 MB 6.7 kB/s \n",
            "\u001b[?25hRequirement already satisfied: tensorflow-hub>=0.8.0 in /usr/local/lib/python3.7/dist-packages (from tensorflow_text) (0.12.0)\n",
            "Collecting keras<2.12,>=2.11.0\n",
            "  Downloading keras-2.11.0-py2.py3-none-any.whl (1.7 MB)\n",
            "\u001b[K     |████████████████████████████████| 1.7 MB 56.7 MB/s \n",
            "\u001b[?25hRequirement already satisfied: opt-einsum>=2.3.2 in /usr/local/lib/python3.7/dist-packages (from tensorflow<2.12,>=2.11.0->tensorflow_text) (3.3.0)\n",
            "Requirement already satisfied: astunparse>=1.6.0 in /usr/local/lib/python3.7/dist-packages (from tensorflow<2.12,>=2.11.0->tensorflow_text) (1.6.3)\n",
            "Requirement already satisfied: google-pasta>=0.1.1 in /usr/local/lib/python3.7/dist-packages (from tensorflow<2.12,>=2.11.0->tensorflow_text) (0.2.0)\n",
            "Requirement already satisfied: six>=1.12.0 in /usr/local/lib/python3.7/dist-packages (from tensorflow<2.12,>=2.11.0->tensorflow_text) (1.15.0)\n",
            "Requirement already satisfied: wrapt>=1.11.0 in /usr/local/lib/python3.7/dist-packages (from tensorflow<2.12,>=2.11.0->tensorflow_text) (1.14.1)\n",
            "Requirement already satisfied: tensorflow-io-gcs-filesystem>=0.23.1 in /usr/local/lib/python3.7/dist-packages (from tensorflow<2.12,>=2.11.0->tensorflow_text) (0.27.0)\n",
            "Collecting flatbuffers>=2.0\n",
            "  Downloading flatbuffers-22.10.26-py2.py3-none-any.whl (26 kB)\n",
            "Requirement already satisfied: gast<=0.4.0,>=0.2.1 in /usr/local/lib/python3.7/dist-packages (from tensorflow<2.12,>=2.11.0->tensorflow_text) (0.4.0)\n",
            "Requirement already satisfied: h5py>=2.9.0 in /usr/local/lib/python3.7/dist-packages (from tensorflow<2.12,>=2.11.0->tensorflow_text) (3.1.0)\n",
            "Requirement already satisfied: libclang>=13.0.0 in /usr/local/lib/python3.7/dist-packages (from tensorflow<2.12,>=2.11.0->tensorflow_text) (14.0.6)\n",
            "Requirement already satisfied: grpcio<2.0,>=1.24.3 in /usr/local/lib/python3.7/dist-packages (from tensorflow<2.12,>=2.11.0->tensorflow_text) (1.50.0)\n",
            "Requirement already satisfied: absl-py>=1.0.0 in /usr/local/lib/python3.7/dist-packages (from tensorflow<2.12,>=2.11.0->tensorflow_text) (1.3.0)\n",
            "Requirement already satisfied: packaging in /usr/local/lib/python3.7/dist-packages (from tensorflow<2.12,>=2.11.0->tensorflow_text) (21.3)\n",
            "Requirement already satisfied: termcolor>=1.1.0 in /usr/local/lib/python3.7/dist-packages (from tensorflow<2.12,>=2.11.0->tensorflow_text) (2.1.0)\n",
            "Requirement already satisfied: setuptools in /usr/local/lib/python3.7/dist-packages (from tensorflow<2.12,>=2.11.0->tensorflow_text) (57.4.0)\n",
            "Requirement already satisfied: numpy>=1.20 in /usr/local/lib/python3.7/dist-packages (from tensorflow<2.12,>=2.11.0->tensorflow_text) (1.21.6)\n",
            "Collecting tensorboard<2.12,>=2.11\n",
            "  Downloading tensorboard-2.11.0-py3-none-any.whl (6.0 MB)\n",
            "\u001b[K     |████████████████████████████████| 6.0 MB 56.4 MB/s \n",
            "\u001b[?25hCollecting tensorflow-estimator<2.12,>=2.11.0\n",
            "  Downloading tensorflow_estimator-2.11.0-py2.py3-none-any.whl (439 kB)\n",
            "\u001b[K     |████████████████████████████████| 439 kB 67.3 MB/s \n",
            "\u001b[?25hRequirement already satisfied: protobuf<3.20,>=3.9.2 in /usr/local/lib/python3.7/dist-packages (from tensorflow<2.12,>=2.11.0->tensorflow_text) (3.19.6)\n",
            "Requirement already satisfied: typing-extensions>=3.6.6 in /usr/local/lib/python3.7/dist-packages (from tensorflow<2.12,>=2.11.0->tensorflow_text) (4.1.1)\n",
            "Requirement already satisfied: wheel<1.0,>=0.23.0 in /usr/local/lib/python3.7/dist-packages (from astunparse>=1.6.0->tensorflow<2.12,>=2.11.0->tensorflow_text) (0.38.3)\n",
            "Requirement already satisfied: cached-property in /usr/local/lib/python3.7/dist-packages (from h5py>=2.9.0->tensorflow<2.12,>=2.11.0->tensorflow_text) (1.5.2)\n",
            "Requirement already satisfied: google-auth<3,>=1.6.3 in /usr/local/lib/python3.7/dist-packages (from tensorboard<2.12,>=2.11->tensorflow<2.12,>=2.11.0->tensorflow_text) (2.14.1)\n",
            "Requirement already satisfied: werkzeug>=1.0.1 in /usr/local/lib/python3.7/dist-packages (from tensorboard<2.12,>=2.11->tensorflow<2.12,>=2.11.0->tensorflow_text) (1.0.1)\n",
            "Requirement already satisfied: markdown>=2.6.8 in /usr/local/lib/python3.7/dist-packages (from tensorboard<2.12,>=2.11->tensorflow<2.12,>=2.11.0->tensorflow_text) (3.4.1)\n",
            "Requirement already satisfied: tensorboard-plugin-wit>=1.6.0 in /usr/local/lib/python3.7/dist-packages (from tensorboard<2.12,>=2.11->tensorflow<2.12,>=2.11.0->tensorflow_text) (1.8.1)\n",
            "Requirement already satisfied: google-auth-oauthlib<0.5,>=0.4.1 in /usr/local/lib/python3.7/dist-packages (from tensorboard<2.12,>=2.11->tensorflow<2.12,>=2.11.0->tensorflow_text) (0.4.6)\n",
            "Requirement already satisfied: tensorboard-data-server<0.7.0,>=0.6.0 in /usr/local/lib/python3.7/dist-packages (from tensorboard<2.12,>=2.11->tensorflow<2.12,>=2.11.0->tensorflow_text) (0.6.1)\n",
            "Requirement already satisfied: requests<3,>=2.21.0 in /usr/local/lib/python3.7/dist-packages (from tensorboard<2.12,>=2.11->tensorflow<2.12,>=2.11.0->tensorflow_text) (2.23.0)\n",
            "Requirement already satisfied: pyasn1-modules>=0.2.1 in /usr/local/lib/python3.7/dist-packages (from google-auth<3,>=1.6.3->tensorboard<2.12,>=2.11->tensorflow<2.12,>=2.11.0->tensorflow_text) (0.2.8)\n",
            "Requirement already satisfied: cachetools<6.0,>=2.0.0 in /usr/local/lib/python3.7/dist-packages (from google-auth<3,>=1.6.3->tensorboard<2.12,>=2.11->tensorflow<2.12,>=2.11.0->tensorflow_text) (5.2.0)\n",
            "Requirement already satisfied: rsa<5,>=3.1.4 in /usr/local/lib/python3.7/dist-packages (from google-auth<3,>=1.6.3->tensorboard<2.12,>=2.11->tensorflow<2.12,>=2.11.0->tensorflow_text) (4.9)\n",
            "Requirement already satisfied: requests-oauthlib>=0.7.0 in /usr/local/lib/python3.7/dist-packages (from google-auth-oauthlib<0.5,>=0.4.1->tensorboard<2.12,>=2.11->tensorflow<2.12,>=2.11.0->tensorflow_text) (1.3.1)\n",
            "Requirement already satisfied: importlib-metadata>=4.4 in /usr/local/lib/python3.7/dist-packages (from markdown>=2.6.8->tensorboard<2.12,>=2.11->tensorflow<2.12,>=2.11.0->tensorflow_text) (4.13.0)\n",
            "Requirement already satisfied: zipp>=0.5 in /usr/local/lib/python3.7/dist-packages (from importlib-metadata>=4.4->markdown>=2.6.8->tensorboard<2.12,>=2.11->tensorflow<2.12,>=2.11.0->tensorflow_text) (3.10.0)\n",
            "Requirement already satisfied: pyasn1<0.5.0,>=0.4.6 in /usr/local/lib/python3.7/dist-packages (from pyasn1-modules>=0.2.1->google-auth<3,>=1.6.3->tensorboard<2.12,>=2.11->tensorflow<2.12,>=2.11.0->tensorflow_text) (0.4.8)\n",
            "Requirement already satisfied: urllib3!=1.25.0,!=1.25.1,<1.26,>=1.21.1 in /usr/local/lib/python3.7/dist-packages (from requests<3,>=2.21.0->tensorboard<2.12,>=2.11->tensorflow<2.12,>=2.11.0->tensorflow_text) (1.24.3)\n",
            "Requirement already satisfied: certifi>=2017.4.17 in /usr/local/lib/python3.7/dist-packages (from requests<3,>=2.21.0->tensorboard<2.12,>=2.11->tensorflow<2.12,>=2.11.0->tensorflow_text) (2022.9.24)\n",
            "Requirement already satisfied: chardet<4,>=3.0.2 in /usr/local/lib/python3.7/dist-packages (from requests<3,>=2.21.0->tensorboard<2.12,>=2.11->tensorflow<2.12,>=2.11.0->tensorflow_text) (3.0.4)\n",
            "Requirement already satisfied: idna<3,>=2.5 in /usr/local/lib/python3.7/dist-packages (from requests<3,>=2.21.0->tensorboard<2.12,>=2.11->tensorflow<2.12,>=2.11.0->tensorflow_text) (2.10)\n",
            "Requirement already satisfied: oauthlib>=3.0.0 in /usr/local/lib/python3.7/dist-packages (from requests-oauthlib>=0.7.0->google-auth-oauthlib<0.5,>=0.4.1->tensorboard<2.12,>=2.11->tensorflow<2.12,>=2.11.0->tensorflow_text) (3.2.2)\n",
            "Requirement already satisfied: pyparsing!=3.0.5,>=2.0.2 in /usr/local/lib/python3.7/dist-packages (from packaging->tensorflow<2.12,>=2.11.0->tensorflow_text) (3.0.9)\n",
            "Installing collected packages: tensorflow-estimator, tensorboard, keras, flatbuffers, tensorflow, tensorflow-text\n",
            "  Attempting uninstall: tensorflow-estimator\n",
            "    Found existing installation: tensorflow-estimator 2.9.0\n",
            "    Uninstalling tensorflow-estimator-2.9.0:\n",
            "      Successfully uninstalled tensorflow-estimator-2.9.0\n",
            "  Attempting uninstall: tensorboard\n",
            "    Found existing installation: tensorboard 2.9.1\n",
            "    Uninstalling tensorboard-2.9.1:\n",
            "      Successfully uninstalled tensorboard-2.9.1\n",
            "  Attempting uninstall: keras\n",
            "    Found existing installation: keras 2.9.0\n",
            "    Uninstalling keras-2.9.0:\n",
            "      Successfully uninstalled keras-2.9.0\n",
            "  Attempting uninstall: flatbuffers\n",
            "    Found existing installation: flatbuffers 1.12\n",
            "    Uninstalling flatbuffers-1.12:\n",
            "      Successfully uninstalled flatbuffers-1.12\n",
            "  Attempting uninstall: tensorflow\n",
            "    Found existing installation: tensorflow 2.9.2\n",
            "    Uninstalling tensorflow-2.9.2:\n",
            "      Successfully uninstalled tensorflow-2.9.2\n",
            "Successfully installed flatbuffers-22.10.26 keras-2.11.0 tensorboard-2.11.0 tensorflow-2.11.0 tensorflow-estimator-2.11.0 tensorflow-text-2.11.0\n"
          ]
        }
      ],
      "source": [
        "!pip install tensorflow_text"
      ]
    },
    {
      "cell_type": "code",
      "execution_count": null,
      "metadata": {
        "id": "LNyErzJVL5fy"
      },
      "outputs": [],
      "source": [
        "import tensorflow as tf\n",
        "import tensorflow_hub as hub\n",
        "import tensorflow_text as text"
      ]
    },
    {
      "cell_type": "code",
      "source": [
        "print(\"tensorflow_text\",text.__version__)\n",
        "print(\"tensorflow\",tf.__version__)\n",
        "print(\"tensorflow_hub\",hub.__version__)"
      ],
      "metadata": {
        "colab": {
          "base_uri": "https://localhost:8080/"
        },
        "id": "eRLOg4-K4vw2",
        "outputId": "45da056f-defd-4212-9ef8-2c0ac17b01c5"
      },
      "execution_count": null,
      "outputs": [
        {
          "output_type": "stream",
          "name": "stdout",
          "text": [
            "tensorflow_text 2.10.0\n",
            "tensorflow 2.10.0\n",
            "tensorflow_hub 0.12.0\n"
          ]
        }
      ]
    },
    {
      "cell_type": "code",
      "execution_count": null,
      "metadata": {
        "id": "bcXZTuA9MG9J",
        "colab": {
          "base_uri": "https://localhost:8080/"
        },
        "outputId": "b9ebf55b-30a0-44e7-bc40-6aad6f39a86c"
      },
      "outputs": [
        {
          "output_type": "stream",
          "name": "stderr",
          "text": [
            "WARNING:tensorflow:Please fix your imports. Module tensorflow.python.training.tracking.data_structures has been moved to tensorflow.python.trackable.data_structures. The old module will be deleted in version 2.11.\n"
          ]
        }
      ],
      "source": [
        "bert_preprocess = hub.KerasLayer(\"https://tfhub.dev/tensorflow/bert_en_uncased_preprocess/3\")\n",
        "bert_encoder = hub.KerasLayer(\"https://tfhub.dev/tensorflow/bert_en_uncased_L-12_H-768_A-12/4\")\n",
        "#bert_preprocess = hub.KerasLayer(\"https://tfhub.dev/tensorflow/bert_en_uncased_preprocess/3\")\n",
        "#bert_encoder = hub.KerasLayer(\"https://tfhub.dev/tensorflow/bert_en_uncased_L-24_H-1024_A-16/4\")"
      ]
    },
    {
      "cell_type": "code",
      "execution_count": null,
      "metadata": {
        "id": "5-pHZ2_imvnO"
      },
      "outputs": [],
      "source": [
        "initializer = tf.keras.initializers.GlorotUniform()\n",
        "initializer2 = tf.keras.initializers.HeNormal()"
      ]
    },
    {
      "cell_type": "code",
      "execution_count": null,
      "metadata": {
        "id": "ic9d9cV8MJ7e"
      },
      "outputs": [],
      "source": [
        "#creacion del modelo\n",
        "\n",
        "# Bert layers\n",
        "text_input = tf.keras.layers.Input(shape=(), dtype=tf.string, name='text')\n",
        "preprocessed_text = bert_preprocess(text_input)\n",
        "outputs = bert_encoder(preprocessed_text)\n",
        "\n",
        "# Neural network layers\n",
        "l = tf.keras.layers.Dropout(0.2, name=\"dropout\")(outputs['sequence_output'])\n",
        "l = tf.keras.layers.Bidirectional(tf.keras.layers.GRU(60))(l)\n",
        "l = tf.keras.layers.Dense(5, activation = 'tanh')(l)\n",
        "l = tf.keras.layers.Dense(1, activation='sigmoid', name=\"output\")(l)\n",
        "\n",
        "# Use inputs and outputs to construct a final model\n",
        "model = tf.keras.Model(inputs=[text_input], outputs = [l])"
      ]
    },
    {
      "cell_type": "code",
      "execution_count": null,
      "metadata": {
        "id": "lxIZGuVDMuOz",
        "colab": {
          "base_uri": "https://localhost:8080/"
        },
        "outputId": "6bae6f10-d907-4ae4-85e6-c6d5b940ac18"
      },
      "outputs": [
        {
          "output_type": "stream",
          "name": "stdout",
          "text": [
            "Model: \"model_5\"\n",
            "__________________________________________________________________________________________________\n",
            " Layer (type)                   Output Shape         Param #     Connected to                     \n",
            "==================================================================================================\n",
            " text (InputLayer)              [(None,)]            0           []                               \n",
            "                                                                                                  \n",
            " keras_layer_4 (KerasLayer)     {'input_word_ids':   0           ['text[0][0]']                   \n",
            "                                (None, 128),                                                      \n",
            "                                 'input_mask': (Non                                               \n",
            "                                e, 128),                                                          \n",
            "                                 'input_type_ids':                                                \n",
            "                                (None, 128)}                                                      \n",
            "                                                                                                  \n",
            " keras_layer_5 (KerasLayer)     {'pooled_output': (  109482241   ['keras_layer_4[0][0]',          \n",
            "                                None, 768),                       'keras_layer_4[0][1]',          \n",
            "                                 'encoder_outputs':               'keras_layer_4[0][2]']          \n",
            "                                 [(None, 128, 768),                                               \n",
            "                                 (None, 128, 768),                                                \n",
            "                                 (None, 128, 768),                                                \n",
            "                                 (None, 128, 768),                                                \n",
            "                                 (None, 128, 768),                                                \n",
            "                                 (None, 128, 768),                                                \n",
            "                                 (None, 128, 768),                                                \n",
            "                                 (None, 128, 768),                                                \n",
            "                                 (None, 128, 768),                                                \n",
            "                                 (None, 128, 768),                                                \n",
            "                                 (None, 128, 768),                                                \n",
            "                                 (None, 128, 768)],                                               \n",
            "                                 'sequence_output':                                               \n",
            "                                 (None, 128, 768),                                                \n",
            "                                 'default': (None,                                                \n",
            "                                768)}                                                             \n",
            "                                                                                                  \n",
            " dropout (Dropout)              (None, 128, 768)     0           ['keras_layer_5[0][14]']         \n",
            "                                                                                                  \n",
            " bidirectional_5 (Bidirectional  (None, 120)         298800      ['dropout[0][0]']                \n",
            " )                                                                                                \n",
            "                                                                                                  \n",
            " dense_5 (Dense)                (None, 5)            605         ['bidirectional_5[0][0]']        \n",
            "                                                                                                  \n",
            " output (Dense)                 (None, 1)            6           ['dense_5[0][0]']                \n",
            "                                                                                                  \n",
            "==================================================================================================\n",
            "Total params: 109,781,652\n",
            "Trainable params: 299,411\n",
            "Non-trainable params: 109,482,241\n",
            "__________________________________________________________________________________________________\n"
          ]
        }
      ],
      "source": [
        "model.summary()"
      ]
    },
    {
      "cell_type": "code",
      "source": [
        "import time"
      ],
      "metadata": {
        "id": "LprVLYGZ0KX-"
      },
      "execution_count": null,
      "outputs": []
    },
    {
      "cell_type": "code",
      "execution_count": null,
      "metadata": {
        "id": "vdPKW-QVK-Jn"
      },
      "outputs": [],
      "source": [
        "model_path = 'depression_Classifier.h5'"
      ]
    },
    {
      "cell_type": "code",
      "execution_count": null,
      "metadata": {
        "id": "VAmFgkMsMu4s"
      },
      "outputs": [],
      "source": [
        "METRICS = [\n",
        "      tf.keras.metrics.BinaryAccuracy(name='accuracy'),\n",
        "      tf.keras.metrics.Precision(name='precision'),\n",
        "      tf.keras.metrics.Recall(name='recall')\n",
        "]\n",
        "\n",
        "#opt = tf.keras.optimizers.RMSprop(learning_rate=0.01,momentum=0.4, clipvalue=1.0)\n",
        "opt = tf.keras.optimizers.Adam(learning_rate=0.001)\n",
        "\n",
        "model.compile(optimizer=opt,\n",
        "              loss='binary_crossentropy',\n",
        "              metrics=METRICS)\n",
        "\n",
        "#creacion de callbacks\n",
        "callback_earlyStopping = tf.keras.callbacks.EarlyStopping(monitor='val_accuracy', patience=7)\n",
        "\n",
        "model_checkpoint = tf.keras.callbacks.ModelCheckpoint(\n",
        "    model_path, # ruta de guardado para el checkpoint\n",
        "    save_best_only=True\n",
        ")"
      ]
    },
    {
      "cell_type": "code",
      "execution_count": null,
      "metadata": {
        "colab": {
          "base_uri": "https://localhost:8080/"
        },
        "id": "r7ZqcVlKM9A5",
        "outputId": "cc207cec-586e-4d2a-fbab-d6cd542aa8e6"
      },
      "outputs": [
        {
          "output_type": "stream",
          "name": "stdout",
          "text": [
            "Epoch 1/100\n",
            "310/310 [==============================] - 153s 441ms/step - loss: 0.1771 - accuracy: 0.9395 - precision: 0.9543 - recall: 0.9217 - val_loss: 0.1051 - val_accuracy: 0.9669 - val_precision: 0.9856 - val_recall: 0.9471\n",
            "Epoch 2/100\n",
            "310/310 [==============================] - 136s 440ms/step - loss: 0.0864 - accuracy: 0.9735 - precision: 0.9831 - recall: 0.9630 - val_loss: 0.0979 - val_accuracy: 0.9693 - val_precision: 0.9948 - val_recall: 0.9430\n",
            "Epoch 3/100\n",
            "310/310 [==============================] - 137s 443ms/step - loss: 0.0615 - accuracy: 0.9821 - precision: 0.9884 - recall: 0.9753 - val_loss: 0.0752 - val_accuracy: 0.9757 - val_precision: 0.9867 - val_recall: 0.9642\n",
            "Epoch 4/100\n",
            "310/310 [==============================] - 136s 440ms/step - loss: 0.0472 - accuracy: 0.9858 - precision: 0.9887 - recall: 0.9824 - val_loss: 0.0891 - val_accuracy: 0.9725 - val_precision: 0.9778 - val_recall: 0.9666\n",
            "Epoch 5/100\n",
            "310/310 [==============================] - 136s 438ms/step - loss: 0.0373 - accuracy: 0.9879 - precision: 0.9909 - recall: 0.9845 - val_loss: 0.0774 - val_accuracy: 0.9770 - val_precision: 0.9835 - val_recall: 0.9699\n",
            "Epoch 6/100\n",
            "310/310 [==============================] - 137s 442ms/step - loss: 0.0258 - accuracy: 0.9926 - precision: 0.9941 - recall: 0.9910 - val_loss: 0.0745 - val_accuracy: 0.9770 - val_precision: 0.9867 - val_recall: 0.9666\n",
            "Epoch 7/100\n",
            "310/310 [==============================] - 135s 437ms/step - loss: 0.0159 - accuracy: 0.9960 - precision: 0.9967 - recall: 0.9951 - val_loss: 0.0832 - val_accuracy: 0.9782 - val_precision: 0.9892 - val_recall: 0.9666\n",
            "Epoch 8/100\n",
            "310/310 [==============================] - 135s 435ms/step - loss: 0.0130 - accuracy: 0.9976 - precision: 0.9980 - recall: 0.9971 - val_loss: 0.0914 - val_accuracy: 0.9770 - val_precision: 0.9803 - val_recall: 0.9731\n",
            "Epoch 9/100\n",
            "310/310 [==============================] - 135s 437ms/step - loss: 0.0166 - accuracy: 0.9960 - precision: 0.9963 - recall: 0.9955 - val_loss: 0.0769 - val_accuracy: 0.9741 - val_precision: 0.9842 - val_recall: 0.9634\n",
            "Epoch 10/100\n",
            "310/310 [==============================] - 135s 437ms/step - loss: 0.0129 - accuracy: 0.9969 - precision: 0.9980 - recall: 0.9957 - val_loss: 0.0792 - val_accuracy: 0.9790 - val_precision: 0.9836 - val_recall: 0.9740\n",
            "Epoch 11/100\n",
            "310/310 [==============================] - 134s 433ms/step - loss: 0.0124 - accuracy: 0.9966 - precision: 0.9969 - recall: 0.9961 - val_loss: 0.0887 - val_accuracy: 0.9749 - val_precision: 0.9842 - val_recall: 0.9650\n",
            "Epoch 12/100\n",
            "310/310 [==============================] - 135s 435ms/step - loss: 0.0145 - accuracy: 0.9954 - precision: 0.9959 - recall: 0.9947 - val_loss: 0.0932 - val_accuracy: 0.9766 - val_precision: 0.9916 - val_recall: 0.9609\n",
            "Epoch 13/100\n",
            "310/310 [==============================] - 136s 438ms/step - loss: 0.0059 - accuracy: 0.9991 - precision: 0.9992 - recall: 0.9990 - val_loss: 0.0910 - val_accuracy: 0.9786 - val_precision: 0.9868 - val_recall: 0.9699\n",
            "Epoch 14/100\n",
            "310/310 [==============================] - 135s 434ms/step - loss: 0.0089 - accuracy: 0.9978 - precision: 0.9984 - recall: 0.9971 - val_loss: 0.0779 - val_accuracy: 0.9790 - val_precision: 0.9925 - val_recall: 0.9650\n",
            "Epoch 15/100\n",
            "310/310 [==============================] - 134s 433ms/step - loss: 0.0123 - accuracy: 0.9968 - precision: 0.9977 - recall: 0.9957 - val_loss: 0.1097 - val_accuracy: 0.9753 - val_precision: 0.9983 - val_recall: 0.9520\n",
            "Epoch 16/100\n",
            "310/310 [==============================] - 135s 436ms/step - loss: 0.0078 - accuracy: 0.9977 - precision: 0.9980 - recall: 0.9973 - val_loss: 0.0978 - val_accuracy: 0.9798 - val_precision: 0.9925 - val_recall: 0.9666\n",
            "Epoch 17/100\n",
            "310/310 [==============================] - 135s 435ms/step - loss: 0.0071 - accuracy: 0.9982 - precision: 0.9986 - recall: 0.9978 - val_loss: 0.0942 - val_accuracy: 0.9798 - val_precision: 0.9908 - val_recall: 0.9683\n",
            "Epoch 18/100\n",
            "310/310 [==============================] - 134s 433ms/step - loss: 0.0031 - accuracy: 0.9994 - precision: 0.9996 - recall: 0.9992 - val_loss: 0.0978 - val_accuracy: 0.9802 - val_precision: 0.9852 - val_recall: 0.9748\n",
            "Epoch 19/100\n",
            "310/310 [==============================] - 135s 435ms/step - loss: 0.0019 - accuracy: 0.9998 - precision: 1.0000 - recall: 0.9996 - val_loss: 0.1068 - val_accuracy: 0.9798 - val_precision: 0.9892 - val_recall: 0.9699\n",
            "Epoch 20/100\n",
            "310/310 [==============================] - 135s 435ms/step - loss: 0.0054 - accuracy: 0.9985 - precision: 0.9988 - recall: 0.9982 - val_loss: 0.0843 - val_accuracy: 0.9774 - val_precision: 0.9780 - val_recall: 0.9764\n",
            "Epoch 21/100\n",
            "310/310 [==============================] - 134s 432ms/step - loss: 0.0068 - accuracy: 0.9978 - precision: 0.9982 - recall: 0.9973 - val_loss: 0.0904 - val_accuracy: 0.9794 - val_precision: 0.9852 - val_recall: 0.9731\n",
            "Epoch 22/100\n",
            "310/310 [==============================] - 135s 435ms/step - loss: 0.0060 - accuracy: 0.9980 - precision: 0.9980 - recall: 0.9980 - val_loss: 0.0944 - val_accuracy: 0.9810 - val_precision: 0.9844 - val_recall: 0.9772\n",
            "Epoch 23/100\n",
            "310/310 [==============================] - 135s 434ms/step - loss: 0.0043 - accuracy: 0.9989 - precision: 0.9992 - recall: 0.9986 - val_loss: 0.1024 - val_accuracy: 0.9782 - val_precision: 0.9884 - val_recall: 0.9675\n",
            "Epoch 24/100\n",
            "310/310 [==============================] - 134s 433ms/step - loss: 0.0078 - accuracy: 0.9976 - precision: 0.9978 - recall: 0.9973 - val_loss: 0.1135 - val_accuracy: 0.9766 - val_precision: 0.9916 - val_recall: 0.9609\n",
            "Epoch 25/100\n",
            "310/310 [==============================] - 135s 435ms/step - loss: 0.0081 - accuracy: 0.9981 - precision: 0.9982 - recall: 0.9980 - val_loss: 0.1016 - val_accuracy: 0.9790 - val_precision: 0.9925 - val_recall: 0.9650\n",
            "Epoch 26/100\n",
            "310/310 [==============================] - 135s 435ms/step - loss: 0.0024 - accuracy: 0.9996 - precision: 0.9998 - recall: 0.9994 - val_loss: 0.1099 - val_accuracy: 0.9794 - val_precision: 0.9925 - val_recall: 0.9658\n",
            "Epoch 27/100\n",
            "310/310 [==============================] - 134s 433ms/step - loss: 0.0025 - accuracy: 0.9995 - precision: 0.9996 - recall: 0.9994 - val_loss: 0.1025 - val_accuracy: 0.9798 - val_precision: 0.9860 - val_recall: 0.9731\n",
            "Epoch 28/100\n",
            "310/310 [==============================] - 135s 435ms/step - loss: 0.0022 - accuracy: 0.9996 - precision: 0.9998 - recall: 0.9994 - val_loss: 0.1123 - val_accuracy: 0.9814 - val_precision: 0.9925 - val_recall: 0.9699\n",
            "Epoch 29/100\n",
            "310/310 [==============================] - 135s 435ms/step - loss: 0.0092 - accuracy: 0.9973 - precision: 0.9980 - recall: 0.9965 - val_loss: 0.1046 - val_accuracy: 0.9766 - val_precision: 0.9819 - val_recall: 0.9707\n",
            "Epoch 30/100\n",
            "310/310 [==============================] - 134s 432ms/step - loss: 0.0067 - accuracy: 0.9976 - precision: 0.9980 - recall: 0.9971 - val_loss: 0.1275 - val_accuracy: 0.9762 - val_precision: 0.9933 - val_recall: 0.9585\n",
            "Epoch 31/100\n",
            "310/310 [==============================] - 135s 435ms/step - loss: 0.0041 - accuracy: 0.9989 - precision: 0.9990 - recall: 0.9988 - val_loss: 0.1304 - val_accuracy: 0.9766 - val_precision: 0.9958 - val_recall: 0.9569\n",
            "Epoch 32/100\n",
            "310/310 [==============================] - 135s 435ms/step - loss: 0.0037 - accuracy: 0.9991 - precision: 0.9992 - recall: 0.9990 - val_loss: 0.1364 - val_accuracy: 0.9778 - val_precision: 0.9949 - val_recall: 0.9601\n",
            "Epoch 33/100\n",
            "310/310 [==============================] - 135s 434ms/step - loss: 0.0027 - accuracy: 0.9995 - precision: 0.9998 - recall: 0.9992 - val_loss: 0.1156 - val_accuracy: 0.9721 - val_precision: 0.9618 - val_recall: 0.9829\n",
            "Epoch 34/100\n",
            "310/310 [==============================] - 134s 433ms/step - loss: 0.0046 - accuracy: 0.9989 - precision: 0.9990 - recall: 0.9988 - val_loss: 0.1105 - val_accuracy: 0.9786 - val_precision: 0.9876 - val_recall: 0.9691\n",
            "Epoch 35/100\n",
            "310/310 [==============================] - 135s 435ms/step - loss: 0.0033 - accuracy: 0.9995 - precision: 1.0000 - recall: 0.9990 - val_loss: 0.1072 - val_accuracy: 0.9794 - val_precision: 0.9876 - val_recall: 0.9707\n",
            "4740.3588745594025\n"
          ]
        }
      ],
      "source": [
        "start = time.time() \n",
        "model.fit(X_train, y_train, epochs=100, validation_split=0.2, callbacks = [model_checkpoint,callback_earlyStopping])\n",
        "end = time.time()\n",
        "print(end-start)"
      ]
    },
    {
      "cell_type": "markdown",
      "metadata": {
        "id": "iCGWn8jsP-Nw"
      },
      "source": [
        "# análisis del modelo"
      ]
    },
    {
      "cell_type": "code",
      "source": [
        "modelPath = '/content/drive/MyDrive/8vo semestre/IA 2/model/depression_Classifier.h5'"
      ],
      "metadata": {
        "id": "Fx4bJoM3cs_1"
      },
      "execution_count": null,
      "outputs": []
    },
    {
      "cell_type": "code",
      "source": [
        "model = tf.keras.models.load_model(\n",
        "       (modelPath),\n",
        "       custom_objects={'KerasLayer':hub.KerasLayer}\n",
        ")"
      ],
      "metadata": {
        "colab": {
          "base_uri": "https://localhost:8080/"
        },
        "id": "QmoWQ6BhdKVA",
        "outputId": "9091e2fa-8cbd-4551-b0da-07b9ed994c85"
      },
      "execution_count": null,
      "outputs": [
        {
          "output_type": "stream",
          "name": "stderr",
          "text": [
            "WARNING:tensorflow:Please fix your imports. Module tensorflow.python.training.tracking.data_structures has been moved to tensorflow.python.trackable.data_structures. The old module will be deleted in version 2.11.\n"
          ]
        }
      ]
    },
    {
      "cell_type": "code",
      "execution_count": null,
      "metadata": {
        "id": "c0dexCkPM_d0",
        "colab": {
          "base_uri": "https://localhost:8080/"
        },
        "outputId": "4746cf5a-a94f-4804-e501-124d45af70e3"
      },
      "outputs": [
        {
          "output_type": "stream",
          "name": "stderr",
          "text": [
            "WARNING:tensorflow:Please fix your imports. Module tensorflow.python.training.tracking.data_structures has been moved to tensorflow.python.trackable.data_structures. The old module will be deleted in version 2.11.\n",
            "WARNING:tensorflow:From /usr/local/lib/python3.7/dist-packages/tensorflow/python/autograph/pyct/static_analysis/liveness.py:83: Analyzer.lamba_check (from tensorflow.python.autograph.pyct.static_analysis.liveness) is deprecated and will be removed after 2023-09-23.\n",
            "Instructions for updating:\n",
            "Lambda fuctions will be no more assumed to be used in the statement where they are used, or at least in the same block. https://github.com/tensorflow/tensorflow/issues/56089\n"
          ]
        }
      ],
      "source": [
        "model = tf.keras.models.load_model(\n",
        "       (\"/content/drive/MyDrive/Colab Notebooks/IA2/IAProject/depression_Classifier.h5\"),\n",
        "       custom_objects={'KerasLayer':hub.KerasLayer}\n",
        ")"
      ]
    },
    {
      "cell_type": "code",
      "execution_count": null,
      "metadata": {
        "colab": {
          "base_uri": "https://localhost:8080/"
        },
        "id": "kfg7T9-PN5Es",
        "outputId": "555d080a-4948-4e41-d880-420ffa801805"
      },
      "outputs": [
        {
          "output_type": "stream",
          "name": "stdout",
          "text": [
            "97/97 [==============================] - 41s 349ms/step - loss: 0.0611 - accuracy: 0.9800 - precision: 0.9875 - recall: 0.9721\n"
          ]
        },
        {
          "output_type": "execute_result",
          "data": {
            "text/plain": [
              "[0.06110691651701927,\n",
              " 0.979954719543457,\n",
              " 0.9874835014343262,\n",
              " 0.9721141457557678]"
            ]
          },
          "metadata": {},
          "execution_count": 19
        }
      ],
      "source": [
        "model.evaluate(X_test, y_test)"
      ]
    },
    {
      "cell_type": "code",
      "execution_count": null,
      "metadata": {
        "colab": {
          "base_uri": "https://localhost:8080/"
        },
        "id": "SjOD_8gyOK_y",
        "outputId": "1acf0d44-20f0-4aa4-b920-ae1c40d2f573"
      },
      "outputs": [
        {
          "output_type": "stream",
          "name": "stdout",
          "text": [
            "97/97 [==============================] - 33s 330ms/step\n"
          ]
        }
      ],
      "source": [
        "y_predicted = model.predict(X_test)\n",
        "y_predicted = y_predicted.flatten()"
      ]
    },
    {
      "cell_type": "code",
      "execution_count": null,
      "metadata": {
        "colab": {
          "base_uri": "https://localhost:8080/"
        },
        "id": "AqIyz4GgO8i6",
        "outputId": "2cfb6500-12b9-452c-a3b7-ab0e7274a1c7"
      },
      "outputs": [
        {
          "output_type": "execute_result",
          "data": {
            "text/plain": [
              "array([0.9948362 , 0.99483275, 0.5150637 , ..., 0.00605518, 0.01011498,\n",
              "       0.9948279 ], dtype=float32)"
            ]
          },
          "metadata": {},
          "execution_count": 18
        }
      ],
      "source": [
        "y_predicted"
      ]
    },
    {
      "cell_type": "code",
      "execution_count": null,
      "metadata": {
        "colab": {
          "base_uri": "https://localhost:8080/"
        },
        "id": "7vZpC6bDOrX7",
        "outputId": "5da56b35-b6e4-4251-9ad9-4aa00e69e7f2"
      },
      "outputs": [
        {
          "output_type": "execute_result",
          "data": {
            "text/plain": [
              "array([1, 1, 1, ..., 0, 0, 1])"
            ]
          },
          "metadata": {},
          "execution_count": 22
        }
      ],
      "source": [
        "y_predictedFinal = np.where(y_predicted > 0.2, 1, 0)\n",
        "y_predictedFinal"
      ]
    },
    {
      "cell_type": "code",
      "execution_count": null,
      "metadata": {
        "colab": {
          "base_uri": "https://localhost:8080/"
        },
        "id": "76ApYqVPPN1M",
        "outputId": "177526ad-5ba5-4b95-df22-92814c192cdb"
      },
      "outputs": [
        {
          "output_type": "execute_result",
          "data": {
            "text/plain": [
              "array([[1513,   38],\n",
              "       [  28, 1514]])"
            ]
          },
          "metadata": {},
          "execution_count": 20
        }
      ],
      "source": [
        "from sklearn.metrics import confusion_matrix, classification_report\n",
        "\n",
        "cm = confusion_matrix(y_test, y_predictedFinal)\n",
        "cm "
      ]
    },
    {
      "cell_type": "code",
      "execution_count": null,
      "metadata": {
        "colab": {
          "base_uri": "https://localhost:8080/",
          "height": 296
        },
        "id": "sCcCvVuGPSsk",
        "outputId": "67bb6e84-8bbf-427f-bdde-76c5ebf26c9e"
      },
      "outputs": [
        {
          "output_type": "execute_result",
          "data": {
            "text/plain": [
              "Text(33.0, 0.5, 'Truth')"
            ]
          },
          "metadata": {},
          "execution_count": 148
        },
        {
          "output_type": "display_data",
          "data": {
            "text/plain": [
              "<Figure size 432x288 with 2 Axes>"
            ],
            "image/png": "[encoded data removed]"
          },
          "metadata": {
            "needs_background": "light"
          }
        }
      ],
      "source": [
        "from matplotlib import pyplot as plt\n",
        "import seaborn as sn\n",
        "sn.heatmap(cm, annot=True, fmt='d')\n",
        "plt.xlabel('Predicted')\n",
        "plt.ylabel('Truth')"
      ]
    },
    {
      "cell_type": "code",
      "execution_count": null,
      "metadata": {
        "colab": {
          "base_uri": "https://localhost:8080/"
        },
        "id": "RkgoKOPGPUiN",
        "outputId": "8acf0647-61ec-42cf-b2af-d90883e7fe18"
      },
      "outputs": [
        {
          "output_type": "stream",
          "name": "stdout",
          "text": [
            "              precision    recall  f1-score   support\n",
            "\n",
            "           0       0.98      0.98      0.98      1551\n",
            "           1       0.98      0.98      0.98      1542\n",
            "\n",
            "    accuracy                           0.98      3093\n",
            "   macro avg       0.98      0.98      0.98      3093\n",
            "weighted avg       0.98      0.98      0.98      3093\n",
            "\n"
          ]
        }
      ],
      "source": [
        "print(classification_report(y_test, y_predictedFinal))"
      ]
    },
    {
      "cell_type": "markdown",
      "source": [
        "### Kappa Score"
      ],
      "metadata": {
        "id": "oiuvgfJuijZa"
      }
    },
    {
      "cell_type": "code",
      "source": [
        "from sklearn.metrics import cohen_kappa_score\n",
        "\n",
        "cohen_kappa_score(y_test, y_predictedFinal)"
      ],
      "metadata": {
        "id": "y1X27VxTINyb",
        "colab": {
          "base_uri": "https://localhost:8080/"
        },
        "outputId": "444d7c80-d10a-4aab-c79a-44045f58d20b"
      },
      "execution_count": null,
      "outputs": [
        {
          "output_type": "execute_result",
          "data": {
            "text/plain": [
              "0.9573234290272933"
            ]
          },
          "metadata": {},
          "execution_count": 22
        }
      ]
    },
    {
      "cell_type": "markdown",
      "source": [
        "### Matthews correlation coefficient (MCC)"
      ],
      "metadata": {
        "id": "qsvHMVhEioCY"
      }
    },
    {
      "cell_type": "code",
      "source": [
        "from sklearn.metrics import matthews_corrcoef\n",
        "\n",
        "matthews_corrcoef(y_test, y_predictedFinal)"
      ],
      "metadata": {
        "colab": {
          "base_uri": "https://localhost:8080/"
        },
        "id": "NaErTZfci3Is",
        "outputId": "aadfe17c-b04d-498f-faab-3cc30bf3d00d"
      },
      "execution_count": null,
      "outputs": [
        {
          "output_type": "execute_result",
          "data": {
            "text/plain": [
              "0.957343443007866"
            ]
          },
          "metadata": {},
          "execution_count": 24
        }
      ]
    },
    {
      "cell_type": "markdown",
      "source": [
        "### ROC Curve"
      ],
      "metadata": {
        "id": "i545A9SJoHeA"
      }
    },
    {
      "cell_type": "code",
      "source": [
        "from sklearn.metrics import roc_curve,RocCurveDisplay,auc\n",
        "import matplotlib as plt\n",
        "\n",
        "fpr, tpr, thresholds = roc_curve(y_test, y_predicted)\n",
        "roc_auc = auc(fpr, tpr)\n",
        "display = RocCurveDisplay(fpr=fpr, tpr=tpr, roc_auc=roc_auc,estimator_name='RedditNet')\n",
        "display.plot()"
      ],
      "metadata": {
        "colab": {
          "base_uri": "https://localhost:8080/",
          "height": 296
        },
        "id": "Ep27F7NdoKUt",
        "outputId": "61ae5d08-d4b2-4453-e5db-9bf373c8cf48"
      },
      "execution_count": null,
      "outputs": [
        {
          "output_type": "execute_result",
          "data": {
            "text/plain": [
              "<sklearn.metrics._plot.roc_curve.RocCurveDisplay at 0x7f224402ab10>"
            ]
          },
          "metadata": {},
          "execution_count": 21
        },
        {
          "output_type": "display_data",
          "data": {
            "text/plain": [
              "<Figure size 432x288 with 1 Axes>"
            ],
            "image/png": "[encoded data removed]"
          },
          "metadata": {
            "needs_background": "light"
          }
        }
      ]
    },
    {
      "cell_type": "code",
      "execution_count": null,
      "metadata": {
        "colab": {
          "base_uri": "https://localhost:8080/"
        },
        "id": "-JfVCQnOQsMD",
        "outputId": "faa21d2d-1a8d-4406-a461-61e426c75fca"
      },
      "outputs": [
        {
          "output_type": "stream",
          "name": "stdout",
          "text": [
            "1/1 [==============================] - 1s 940ms/step\n"
          ]
        },
        {
          "output_type": "execute_result",
          "data": {
            "text/plain": [
              "array([[0.02299991]], dtype=float32)"
            ]
          },
          "metadata": {},
          "execution_count": 82
        }
      ],
      "source": [
        "model.predict([\"smiling through it all can not believe this is my life\"])"
      ]
    },
    {
      "cell_type": "code",
      "execution_count": null,
      "metadata": {
        "colab": {
          "base_uri": "https://localhost:8080/"
        },
        "id": "A8JyWsnZQ2vj",
        "outputId": "480e34b8-4232-40f3-be23-92c0fd234932"
      },
      "outputs": [
        {
          "output_type": "stream",
          "name": "stdout",
          "text": [
            "1/1 [==============================] - 0s 64ms/step\n"
          ]
        },
        {
          "output_type": "execute_result",
          "data": {
            "text/plain": [
              "array([[0.99327916]], dtype=float32)"
            ]
          },
          "metadata": {},
          "execution_count": 83
        }
      ],
      "source": [
        "model.predict([\"i m sitting on my bed alone in my dark room smoking weed looking at the night sky and old photo listening to music i wa listening year ago and thinking about those time when everything wa fine and i knew le than i know right know it hurt so much physically and mentally\"])"
      ]
    },
    {
      "cell_type": "code",
      "execution_count": null,
      "metadata": {
        "colab": {
          "base_uri": "https://localhost:8080/"
        },
        "id": "UGHmCf2yRCcI",
        "outputId": "cbfaf80f-d10f-4607-ef3f-377b8f819555"
      },
      "outputs": [
        {
          "output_type": "stream",
          "name": "stdout",
          "text": [
            "1/1 [==============================] - 5s 5s/step\n"
          ]
        },
        {
          "output_type": "execute_result",
          "data": {
            "text/plain": [
              "array([[0.98000884]], dtype=float32)"
            ]
          },
          "metadata": {},
          "execution_count": 21
        }
      ],
      "source": [
        "model.predict([\"i do not like where my life is going I feel hopeless\"])"
      ]
    },
    {
      "cell_type": "code",
      "execution_count": null,
      "metadata": {
        "colab": {
          "base_uri": "https://localhost:8080/"
        },
        "id": "qLa4G0rJRxc_",
        "outputId": "78dc92d7-7309-4ab6-a2c9-256c78eba87a"
      },
      "outputs": [
        {
          "output_type": "stream",
          "name": "stdout",
          "text": [
            "1/1 [==============================] - 0s 61ms/step\n"
          ]
        },
        {
          "output_type": "execute_result",
          "data": {
            "text/plain": [
              "array([[0.9933697]], dtype=float32)"
            ]
          },
          "metadata": {},
          "execution_count": 85
        }
      ],
      "source": [
        "model.predict([\"I do not want to be here anymore the only reason I stop myself from committing suicide is my parents It is not fair It was not my choice to come into this shit world now it is not my choice to leave\"])"
      ]
    },
    {
      "cell_type": "code",
      "execution_count": null,
      "metadata": {
        "colab": {
          "base_uri": "https://localhost:8080/"
        },
        "id": "0cVLC5CuVFjt",
        "outputId": "17121fba-c9df-4399-ce76-eb01eeb6126b"
      },
      "outputs": [
        {
          "output_type": "stream",
          "name": "stdout",
          "text": [
            "Model: \"model_2\"\n",
            "__________________________________________________________________________________________________\n",
            " Layer (type)                   Output Shape         Param #     Connected to                     \n",
            "==================================================================================================\n",
            " text (InputLayer)              [(None,)]            0           []                               \n",
            "                                                                                                  \n",
            " keras_layer (KerasLayer)       {'input_word_ids':   0           ['text[0][0]']                   \n",
            "                                (None, 128),                                                      \n",
            "                                 'input_type_ids':                                                \n",
            "                                (None, 128),                                                      \n",
            "                                 'input_mask': (Non                                               \n",
            "                                e, 128)}                                                          \n",
            "                                                                                                  \n",
            " keras_layer_1 (KerasLayer)     {'encoder_outputs':  109482241   ['keras_layer[0][0]',            \n",
            "                                 [(None, 128, 768),               'keras_layer[0][1]',            \n",
            "                                 (None, 128, 768),                'keras_layer[0][2]']            \n",
            "                                 (None, 128, 768),                                                \n",
            "                                 (None, 128, 768),                                                \n",
            "                                 (None, 128, 768),                                                \n",
            "                                 (None, 128, 768),                                                \n",
            "                                 (None, 128, 768),                                                \n",
            "                                 (None, 128, 768),                                                \n",
            "                                 (None, 128, 768),                                                \n",
            "                                 (None, 128, 768),                                                \n",
            "                                 (None, 128, 768),                                                \n",
            "                                 (None, 128, 768)],                                               \n",
            "                                 'sequence_output':                                               \n",
            "                                 (None, 128, 768),                                                \n",
            "                                 'default': (None,                                                \n",
            "                                768),                                                             \n",
            "                                 'pooled_output': (                                               \n",
            "                                None, 768)}                                                       \n",
            "                                                                                                  \n",
            " dropout (Dropout)              (None, 128, 768)     0           ['keras_layer_1[0][14]']         \n",
            "                                                                                                  \n",
            " bidirectional_2 (Bidirectional  (None, 120)         99480       ['dropout[0][0]']                \n",
            " )                                                                                                \n",
            "                                                                                                  \n",
            " dense_2 (Dense)                (None, 5)            605         ['bidirectional_2[0][0]']        \n",
            "                                                                                                  \n",
            " output (Dense)                 (None, 1)            6           ['dense_2[0][0]']                \n",
            "                                                                                                  \n",
            "==================================================================================================\n",
            "Total params: 109,582,332\n",
            "Trainable params: 100,091\n",
            "Non-trainable params: 109,482,241\n",
            "__________________________________________________________________________________________________\n"
          ]
        }
      ],
      "source": [
        "model.summary()"
      ]
    }
  ],
  "metadata": {
    "accelerator": "GPU",
    "colab": {
      "collapsed_sections": [
        "EXFcsK1rohpd",
        "oiuvgfJuijZa",
        "qsvHMVhEioCY"
      ],
      "provenance": []
    },
    "kernelspec": {
      "display_name": "Python 3",
      "name": "python3"
    },
    "language_info": {
      "name": "python"
    },
    "gpuClass": "standard"
  },
  "nbformat": 4,
  "nbformat_minor": 0
}